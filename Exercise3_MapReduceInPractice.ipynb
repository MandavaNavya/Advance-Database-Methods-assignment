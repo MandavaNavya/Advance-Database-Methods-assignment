{
 "cells": [
  {
   "cell_type": "markdown",
   "metadata": {
    "slideshow": {
     "slide_type": "slide"
    }
   },
   "source": [
    "# Exercise 3 (MapReduce in Practice)   &nbsp;&nbsp;&nbsp;&nbsp;&nbsp;&nbsp;     [4 points]\n",
    "---\n",
    "\n",
    "For this exercise, you are tasked with writing your own Hadoop MapReduce program in Python and to\n",
    "run it on the cluster on the provided datasets.   \n",
    "You may look at the exercise sheet for all the information on the datasets and this task.\n"
   ]
  },
  {
   "cell_type": "code",
   "execution_count": 1,
   "metadata": {},
   "outputs": [],
   "source": [
    "# Saving variables to access the file locations\n",
    "articles='/home/adbs23/adbs23_shared/hm/articles.csv'\n",
    "\n",
    "customers='/home/adbs23/adbs23_shared/hm/customers.csv'\n",
    "\n",
    "transactions='/home/adbs23/adbs23_shared/hm/transactions_small.csv'"
   ]
  },
  {
   "cell_type": "markdown",
   "metadata": {
    "slideshow": {
     "slide_type": "slide"
    }
   },
   "source": [
    "- ### **a) Write a MapReduce job with “articles.csv” as input and following output:**  \n",
    "\n",
    "For each garment group, show the most frequent product, the second most frequent section and the most frequent department it appears inside the article.csv file; make sure output has the following schema:\n",
    "\n",
    "            garment_group_name, prod_name, section_name,  department_name\n",
    "\n",
    "The product names are stored in \"prod_name\", the deparment name in \"department_name\", the garment group in \"garment_group_name\" and the section in \"section_name\". In case that there are multiple departments, garment groups or sections with the same number of occurences, you may resolve these conflicts randomly, i.e. pick one of them arbitrarily. In case there is only one section, or all sections appear with the same frequency, just pick the most frequent one, and resolve conflicts randomly. \n",
    "\n",
    "Make sure that your program correctly deals with the header, and possible sparse values."
   ]
  },
  {
   "cell_type": "code",
   "execution_count": 2,
   "metadata": {
    "slideshow": {
     "slide_type": "slide"
    }
   },
   "outputs": [
    {
     "name": "stdout",
     "output_type": "stream",
     "text": [
      "Writing mymrjob1.py\n"
     ]
    }
   ],
   "source": [
    "%%file mymrjob1.py\n",
    "\n",
    "# This will create a local file to run your MapReduce program  \n",
    "\n",
    "from mrjob.job import MRJob\n",
    "from mrjob.step import MRStep\n",
    "from mrjob.util import log_to_stream, log_to_null\n",
    "from mr3px.csvprotocol import CsvProtocol\n",
    "import csv \n",
    "import operator\n",
    "import logging\n",
    "\n",
    "\n",
    "log = logging.getLogger(__name__)\n",
    "# \n",
    "#  Below is the skeleton for a MapReduce program in mrjob.\n",
    "#  Write your own solution here. Be sure that it actually runs successfully.\n",
    "\n",
    "class MyMRJob1(MRJob):\n",
    "    \n",
    "    \n",
    "    OUTPUT_PROTOCOL = CsvProtocol  # write output as CSV\n",
    "    \n",
    "    def set_up_logging(cls, quiet=False, verbose=False, stream=None):  \n",
    "        log_to_stream(name='mrjob', debug=verbose, stream=stream)\n",
    "        log_to_stream(name='__main__', debug=verbose, stream=stream)\n",
    "\n",
    "    def mapper_prodcount(self, _, line):\n",
    "        result = next(csv.reader([line],quotechar=None)) # extract columns from line\n",
    "\n",
    "        garment_group_name = result[23]\n",
    "        prod_name = result[2]\n",
    "        # skip sparce entries for other columns \n",
    "        if prod_name == \"prod_name\" or prod_name == \"\" or garment_group_name == \"\": #skip sparse entries and header\n",
    "            return\n",
    "        yield (garment_group_name,prod_name), 1\n",
    "       \n",
    "\n",
    "\n",
    "     # The reducer now creates a dict for all department_names, product_names and sections\n",
    "     # and in the end returns the most or second most frequent values based on its contents\n",
    "    def reducer_prodcount(self,garmetProd,valuelist):\n",
    "        garmet, prod = garmetProd\n",
    "        output = sum(valuelist)\n",
    "        yield None,(garmet,prod,output)\n",
    "\n",
    "\n",
    "    def steps(self):\n",
    "        return [\n",
    "            MRStep(mapper=self.mapper_prodcount,\n",
    "                   reducer=self.reducer_prodcount)            \n",
    "        ]\n",
    "\n",
    "if __name__ == '__main__':\n",
    "    MyMRJob1.run()\n"
   ]
  },
  {
   "cell_type": "markdown",
   "metadata": {},
   "source": [
    "Running a local MRjob "
   ]
  },
  {
   "cell_type": "code",
   "execution_count": 3,
   "metadata": {
    "slideshow": {
     "slide_type": "slide"
    }
   },
   "outputs": [
    {
     "name": "stderr",
     "output_type": "stream",
     "text": [
      "  File \"c:\\Users\\Lenovo\\OneDrive\\Documents\\ADMS_navya\\notebooks\\mymrjob1.py\", line 33\n",
      "    def reducer_prodcount(self,key,pairs):\n",
      "    ^\n",
      "IndentationError: expected an indented block after function definition on line 27\n"
     ]
    }
   ],
   "source": [
    "!python3 mymrjob1.py $articles"
   ]
  },
  {
   "cell_type": "markdown",
   "metadata": {},
   "source": [
    "Running a Hadoop job"
   ]
  },
  {
   "cell_type": "markdown",
   "metadata": {
    "slideshow": {
     "slide_type": "slide"
    }
   },
   "source": [
    "---\n",
    "\n",
    "- ### **b) Write a MapReduce job with all three datasets as input and following output:**  \n",
    "for all customers with 'fashion\\_news\\_frequency' = 'Regularly', show the number of transactions they appear in where the article  has a 'graphical\\_appearance\\_name' equal to 'Solid' and a 'colour\\_group\\_name' equal to 'Light Beige'\n",
    "\n",
    "\n",
    "Make sure to have the following format in your final output:\n",
    "\n",
    "            customer_id,count_transactions\n"
   ]
  },
  {
   "cell_type": "code",
   "execution_count": null,
   "metadata": {
    "slideshow": {
     "slide_type": "slide"
    },
    "tags": []
   },
   "outputs": [],
   "source": [
    "%%file mymrjob2.py\n",
    "# This will create a local file to run your MapReduce program  \n",
    "\n",
    "from mrjob.job import MRJob\n",
    "from mrjob.step import MRStep\n",
    "from mrjob.util import log_to_stream, log_to_null\n",
    "from mr3px.csvprotocol import CsvProtocol\n",
    "import csv \n",
    "import logging\n",
    "\n",
    "    \n",
    " log = logging.getLogger(__name__)\n",
    "# \n",
    "#  Below is the skeleton for a MapReduce program in mrjob.\n",
    "#  Write your own solution here. Be sure that it actually runs successfully.\n",
    "class MyMRJob2(MRJob):\n",
    "    \n",
    "    \n",
    "    OUTPUT_PROTOCOL = CsvProtocol  # write output as CSV\n",
    "    \n",
    "    def set_up_logging(cls, quiet=False, verbose=False, stream=None):  \n",
    "        log_to_stream(name='mrjob', debug=verbose, stream=stream)\n",
    "        log_to_stream(name='__main__', debug=verbose, stream=stream)\n",
    "\n",
    "#   Feel free to rename the functions\n",
    "    def mapper_mrjob2(self, _, line):\n",
    "        #TODO\n",
    "        \n",
    "# use of a combiner is optional. It may speed up your job. Be sure that using the combiner preserves the correctness. \n",
    "#     def combiner_mrjob2(self,key,valuelist):\n",
    "        #TODO\n",
    "        \n",
    "    def reducer_mrjob2(self,key,valuelist):\n",
    "         #TODO\n",
    "\n",
    "    def steps(self):\n",
    "        first_step = MRStep(\n",
    "            mapper=self.mapper_mrjob2, \n",
    "#             combiner=self.combiner_mrjob2, \n",
    "            reducer=self.reducer_mrjob2\n",
    "        )\n",
    "        # just generate more steps to run a multi-step MR job\n",
    "        \n",
    "        return [ first_step ]\n",
    "\n",
    "if __name__ == '__main__':\n",
    "    MyMRJob2.run()\n"
   ]
  },
  {
   "cell_type": "code",
   "execution_count": null,
   "metadata": {},
   "outputs": [],
   "source": [
    "! python3 mymrjob2.py  $articles $transactions $customers"
   ]
  },
  {
   "cell_type": "markdown",
   "metadata": {},
   "source": [
    "---\n",
    "## **Your solution for Exercise 3 will consist of:**  \n",
    "*  This notebook, filled with your solution.\n"
   ]
  }
 ],
 "metadata": {
  "kernelspec": {
   "display_name": "Python 3 (ipykernel)",
   "language": "python",
   "name": "python3"
  },
  "language_info": {
   "codemirror_mode": {
    "name": "ipython",
    "version": 3
   },
   "file_extension": ".py",
   "mimetype": "text/x-python",
   "name": "python",
   "nbconvert_exporter": "python",
   "pygments_lexer": "ipython3",
   "version": "3.10.11"
  }
 },
 "nbformat": 4,
 "nbformat_minor": 4
}
